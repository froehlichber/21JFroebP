{
 "cells": [
  {
   "cell_type": "code",
   "execution_count": 1,
   "id": "60ad9643-a084-44a4-a0cd-f792e4e18b80",
   "metadata": {},
   "outputs": [
    {
     "name": "stdout",
     "output_type": "stream",
     "text": [
      "showing info https://raw.githubusercontent.com/nltk/nltk_data/gh-pages/index.xml\n"
     ]
    },
    {
     "data": {
      "text/plain": [
       "True"
      ]
     },
     "execution_count": 1,
     "metadata": {},
     "output_type": "execute_result"
    }
   ],
   "source": [
    "import nltk\n",
    "nltk.download()"
   ]
  },
  {
   "cell_type": "code",
   "execution_count": 2,
   "id": "3c102564-0529-482b-b391-e5b297f29490",
   "metadata": {},
   "outputs": [
    {
     "name": "stdout",
     "output_type": "stream",
     "text": [
      "Requirement already satisfied: NumPy in c:\\users\\froehlib\\appdata\\local\\programs\\python\\project\\jup\\lib\\site-packages (1.24.4)Note: you may need to restart the kernel to use updated packages.\n",
      "\n"
     ]
    }
   ],
   "source": [
    "pip install NumPy"
   ]
  },
  {
   "cell_type": "code",
   "execution_count": 3,
   "id": "9b5e0e2f-abd1-4d52-93a1-0e1617310148",
   "metadata": {},
   "outputs": [
    {
     "data": {
      "text/latex": [
       "\\begin{align}\n",
       "\\left({a}^{2}\\right) + \\left({b}^{2}\\right) = \\left({c}^{2}\\right) \\\\\n",
       "\\end{align}\n"
      ],
      "text/plain": [
       "<IPython.core.display.Latex object>"
      ]
     },
     "metadata": {},
     "output_type": "display_data"
    }
   ],
   "source": [
    "%%latex\n",
    "\\begin{align}\n",
    "\\left({a}^{2}\\right) + \\left({b}^{2}\\right) = \\left({c}^{2}\\right) \\\\\n",
    "\\end{align}"
   ]
  },
  {
   "cell_type": "code",
   "execution_count": 1,
   "id": "d77620b3-eb8b-4cef-8540-f1a2be8f703a",
   "metadata": {},
   "outputs": [],
   "source": [
    "def factorialA(n):\n",
    "    '''function calculates factroial with a for loop'''\n",
    "    result = 1\n",
    "    for i in range(1, n + 1):\n",
    "        result *= i\n",
    "    return result"
   ]
  },
  {
   "cell_type": "code",
   "execution_count": 2,
   "id": "aba02bc9-93c9-4611-a01a-9d8af922d8ad",
   "metadata": {},
   "outputs": [
    {
     "name": "stdout",
     "output_type": "stream",
     "text": [
      "10.5 µs ± 889 ns per loop (mean ± std. dev. of 7 runs, 100,000 loops each)\n"
     ]
    }
   ],
   "source": [
    "%timeit factorialA(100)"
   ]
  },
  {
   "cell_type": "code",
   "execution_count": 3,
   "id": "d5882214-7ce8-4c78-80b1-f5d4d829bfb7",
   "metadata": {},
   "outputs": [],
   "source": [
    "def factorialB(n):\n",
    "    '''function calculates factroial with a recursive function'''\n",
    "    return 1 if n == 0 else n * factorialB(n - 1)"
   ]
  },
  {
   "cell_type": "code",
   "execution_count": 4,
   "id": "ce78787d-b1bf-43c0-ad41-d05fb2cb17e9",
   "metadata": {},
   "outputs": [
    {
     "name": "stdout",
     "output_type": "stream",
     "text": [
      "21 µs ± 859 ns per loop (mean ± std. dev. of 7 runs, 10,000 loops each)\n"
     ]
    }
   ],
   "source": [
    "%timeit\n",
    "%timeit factorialB(100)"
   ]
  },
  {
   "cell_type": "code",
   "execution_count": null,
   "id": "67c2ec51-c4c3-424c-ad13-4000653ec255",
   "metadata": {},
   "outputs": [],
   "source": []
  }
 ],
 "metadata": {
  "kernelspec": {
   "display_name": "jup",
   "language": "python",
   "name": "jup"
  },
  "language_info": {
   "codemirror_mode": {
    "name": "ipython",
    "version": 3
   },
   "file_extension": ".py",
   "mimetype": "text/x-python",
   "name": "python",
   "nbconvert_exporter": "python",
   "pygments_lexer": "ipython3",
   "version": "3.8.7"
  }
 },
 "nbformat": 4,
 "nbformat_minor": 5
}
